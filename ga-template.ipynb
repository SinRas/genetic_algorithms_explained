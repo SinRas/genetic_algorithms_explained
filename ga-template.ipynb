{
 "cells": [
  {
   "cell_type": "markdown",
   "metadata": {},
   "source": [
    "> Run this cell once!\n",
    "\n",
    "> This will tell python to reload before each import.\n",
    "\n",
    " >This enables you to see updated version of your module as you change and save."
   ]
  },
  {
   "cell_type": "code",
   "execution_count": null,
   "metadata": {},
   "outputs": [],
   "source": [
    "%load_ext autoreload\n",
    "%autoreload 2"
   ]
  },
  {
   "cell_type": "markdown",
   "metadata": {},
   "source": [
    "# External Modules"
   ]
  },
  {
   "cell_type": "code",
   "execution_count": null,
   "metadata": {},
   "outputs": [],
   "source": [
    "# Code Here"
   ]
  },
  {
   "cell_type": "markdown",
   "metadata": {},
   "source": [
    "# `Agent` Class"
   ]
  },
  {
   "cell_type": "code",
   "execution_count": null,
   "metadata": {},
   "outputs": [],
   "source": [
    "# *------------------* #\n",
    "# Agent Class\n",
    "class Agent:\n",
    "    \"\"\"This class implements the 'Agent' for the evolution purpose.\n",
    "    \"\"\"\n",
    "    ???"
   ]
  },
  {
   "cell_type": "markdown",
   "metadata": {},
   "source": [
    "# `ga`: Main Genetic Algorithm Function"
   ]
  },
  {
   "cell_type": "code",
   "execution_count": null,
   "metadata": {},
   "outputs": [],
   "source": [
    "# *------------------* #\n",
    "# Do GA\n",
    "def ga( ??? ):\n",
    "    \"\"\"Do Genetic Algorithm Search\n",
    "    \"\"\"\n",
    "    # Report Format\n",
    "    report_format = '--------------\\nGeneration: {}\\nBest Agent Results\\n{}'\n",
    "    # Initialization\n",
    "    agents = initialization( ??? )\n",
    "    ## Main Loop\n",
    "    for i in range(N_generations):\n",
    "        # Assign Fitness\n",
    "        agents = fitness( ??? )\n",
    "        # Selection\n",
    "        agents = selection( ??? )\n",
    "        # Early-Stopping Criteria\n",
    "        ???\n",
    "        #--------------------\n",
    "        # Report\n",
    "        if( (verbose > 0) and ( i%10**3 == 0 ) ):\n",
    "            print(report_format.format( i, str(agents[0]) )) # If you have implemented `__str__` for 'Agent'\n",
    "        #--------------------\n",
    "        # Cross-Over\n",
    "        agents = crossover( ??? )\n",
    "        # Mutation\n",
    "        agents = mutation( ??? )\n",
    "    # Last Sort\n",
    "    agents = fitness( ??? )\n",
    "    agents = sorted( agents, key = lambda agent: agent.fitness, reverse = True )\n",
    "    # Report\n",
    "    if( verbose > 0 ):\n",
    "        print(report_format.format( i+1, str(agents[0]) ))\n",
    "    # Retun\n",
    "    return( agents )"
   ]
  },
  {
   "cell_type": "markdown",
   "metadata": {},
   "source": [
    "# `initialization`: Initial Population"
   ]
  },
  {
   "cell_type": "code",
   "execution_count": null,
   "metadata": {},
   "outputs": [],
   "source": [
    "# *------------------* #\n",
    "# Initialize\n",
    "def initialization( ??? ):\n",
    "    \"\"\"Initialize Agents\n",
    "    \"\"\""
   ]
  },
  {
   "cell_type": "markdown",
   "metadata": {},
   "source": [
    "# `fitness`: Calculating Fitness"
   ]
  },
  {
   "cell_type": "code",
   "execution_count": null,
   "metadata": {},
   "outputs": [],
   "source": [
    "# *------------------* #\n",
    "# Fitness\n",
    "def fitness( ??? ):\n",
    "    \"\"\"Calculate fitness for each agent.\n",
    "    \"\"\""
   ]
  },
  {
   "cell_type": "markdown",
   "metadata": {},
   "source": [
    "# `selection`: Survival of the Fittest"
   ]
  },
  {
   "cell_type": "code",
   "execution_count": null,
   "metadata": {},
   "outputs": [],
   "source": [
    "# *------------------* #\n",
    "# Selection\n",
    "def selection( ??? ):\n",
    "    \"\"\"Select (a fraction) of fittest agents.\n",
    "    \"\"\""
   ]
  },
  {
   "cell_type": "markdown",
   "metadata": {},
   "source": [
    "# `crossover`: Breeding"
   ]
  },
  {
   "cell_type": "code",
   "execution_count": null,
   "metadata": {},
   "outputs": [],
   "source": [
    "# *------------------* #\n",
    "# Cross-Over\n",
    "def crossover( ??? ):\n",
    "    \"\"\"Cross over the agents.\n",
    "    \"\"\""
   ]
  },
  {
   "cell_type": "markdown",
   "metadata": {},
   "source": [
    "# `mutation`: New Features"
   ]
  },
  {
   "cell_type": "code",
   "execution_count": null,
   "metadata": {},
   "outputs": [],
   "source": [
    "# *------------------* #\n",
    "# Mutation\n",
    "def mutation( ??? ):\n",
    "    \"\"\"Mutate agents.\n",
    "    \"\"\""
   ]
  },
  {
   "cell_type": "markdown",
   "metadata": {},
   "source": [
    "# Putting it all together"
   ]
  },
  {
   "cell_type": "code",
   "execution_count": null,
   "metadata": {},
   "outputs": [],
   "source": [
    "# *------------------------------* #\n",
    "# Main\n",
    "# Parameters\n",
    "## Target\n",
    "???\n",
    "## Simulation\n",
    "N_population = ???\n",
    "N_generations = ???\n",
    "# Genetic Algorithm\n",
    "agents = ga( ??? )"
   ]
  }
 ],
 "metadata": {
  "kernelspec": {
   "display_name": "python3.5.2",
   "language": "python",
   "name": "python3.5.2"
  },
  "language_info": {
   "codemirror_mode": {
    "name": "ipython",
    "version": 3
   },
   "file_extension": ".py",
   "mimetype": "text/x-python",
   "name": "python",
   "nbconvert_exporter": "python",
   "pygments_lexer": "ipython3",
   "version": "3.5.2"
  }
 },
 "nbformat": 4,
 "nbformat_minor": 2
}
