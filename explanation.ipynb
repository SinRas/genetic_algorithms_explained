{
 "cells": [
  {
   "cell_type": "markdown",
   "metadata": {},
   "source": [
    "# Genetic Algorithms"
   ]
  },
  {
   "cell_type": "markdown",
   "metadata": {},
   "source": [
    "## Writer Intro\n",
    "Suppose you want to make the perfect 'Paper Airplane'! What would you do?\n",
    "\n",
    "- One way of doing it might be the 'Science Way'! This means that you go and study physics, math, aerodynamics, calculus, ... and try to understand the behaviour of wind, gravity, friction, turbulence, ... . Using the knowledge that you acquired through years and years of study and practice, do your best at designing an 'Airplane'!\n",
    "\n",
    "- Another way might be what a 'Normal Person' would do! You build and test your first airplanes with different shapes and weights. Then based on your observations, try to guess the good features in the best models you have seen so far. Then based on the those feature and their combination, design and test some other airplanes. Repeat until you get satisfied with the design.\n",
    "\n",
    "The second way of doing it is somehow a good example of 'Evolutionary Algorithm'. These are the common parts of the process in different areas:\n",
    "1. Create an initial variety of models\n",
    "2. Select the ones that did best\n",
    "3. Find the features that you think were responsible for the performance\n",
    "4. Combine the features and create new models\n",
    "5. Sometimes try new ideas in hope of finding unexpected good features\n",
    "6. Repeat until you get the desired result\n",
    "\n",
    "These steps are general to some extent. If look closely, a wide range of problems might be solved (or at least tried to be solved!) by the above procedure."
   ]
  },
  {
   "cell_type": "markdown",
   "metadata": {},
   "source": [
    "## [Wikipedia: Genetic Algorithms](https://en.wikipedia.org/wiki/Genetic_algorithm)\n",
    "\n",
    "__Genetic Algorithm (GA)__ is a [_Metaheuristic_](https://en.wikipedia.org/wiki/Metaheuristic) inspired by process of [Natural Selection](https://en.wikipedia.org/wiki/Natural_selection) that belongs to the larger class of [Evolutionary Algorithms (EA)](https://en.wikipedia.org/wiki/Evolutionary_algorithm).\n",
    "\n",
    "Genetic Algorithms are usually used to generate solutions to [Optimization](https://en.wikipedia.org/wiki/Optimization_(mathematics))and [Search Problems](https://en.wikipedia.org/wiki/Search_algorithm) by relying on __bio-inspired__ operations such as [Mutation](https://en.wikipedia.org/wiki/Mutation_(genetic_algorithm)), [Cross-Over](https://en.wikipedia.org/wiki/Crossover_(genetic_algorithm)) and [Selection](https://en.wikipedia.org/wiki/Selection_(genetic_algorithm)).\n",
    "\n",
    "__Example:__\n",
    "\n",
    "<figure>\n",
    "  <img src=\"https://upload.wikimedia.org/wikipedia/commons/f/ff/St_5-xband-antenna.jpg\" alt=\"Evolved Antenna\" style=\"width:200px\">\n",
    "  <figcaption>The 2006 NASA ST5 spacecraft antenna. This complicated shape was found by an evolutionary computer design program to create the best radiation pattern. It is known as an <a href=\"https://en.wikipedia.org/wiki/Evolved_antenna\">Evolved Antenna</a>.</figcaption>\n",
    "</figure>"
   ]
  }
 ],
 "metadata": {
  "kernelspec": {
   "display_name": "python3.5.2",
   "language": "python",
   "name": "python3.5.2"
  },
  "language_info": {
   "codemirror_mode": {
    "name": "ipython",
    "version": 3
   },
   "file_extension": ".py",
   "mimetype": "text/x-python",
   "name": "python",
   "nbconvert_exporter": "python",
   "pygments_lexer": "ipython3",
   "version": "3.5.2"
  }
 },
 "nbformat": 4,
 "nbformat_minor": 2
}
