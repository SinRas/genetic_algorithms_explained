{
 "cells": [
  {
   "cell_type": "markdown",
   "metadata": {},
   "source": [
    "# Genetic Algorithms"
   ]
  },
  {
   "cell_type": "markdown",
   "metadata": {},
   "source": [
    "***\n",
    "## Writer Intro\n",
    "Suppose you want to make the perfect 'Paper Airplane'! What would you do?\n",
    "\n",
    "- One way of doing it might be the 'Science Way'! This means that you go and study physics, math, aerodynamics, calculus, ... and try to understand the behaviour of wind, gravity, friction, turbulence, ... . Using the knowledge that you acquired through years and years of study and practice, do your best at designing an 'Airplane'!\n",
    "\n",
    "- Another way might be what a 'Normal Person' would do! You build and test your first airplanes with different shapes and weights. Then based on your observations, try to guess the good features in the best models you have seen so far. Then based on the those feature and their combination, design and test some other airplanes. Repeat until you get satisfied with the design.\n",
    "\n",
    "The second way of doing it is somehow a good example of 'Evolutionary Algorithm'. These are the common parts of the process in different areas:\n",
    "1. Create an initial variety of models\n",
    "2. Select the ones that did best\n",
    "3. Find the features that you think were responsible for the performance\n",
    "4. Combine the features and create new models\n",
    "5. Sometimes try new ideas in hope of finding unexpected good features\n",
    "6. Repeat until you get the desired result\n",
    "\n",
    "These steps are general to some extent. If look closely, a wide range of problems might be solved (or at least tried to be solved!) by the above procedure."
   ]
  },
  {
   "cell_type": "markdown",
   "metadata": {},
   "source": [
    "***\n",
    "## [Wikipedia: Genetic Algorithms](https://en.wikipedia.org/wiki/Genetic_algorithm)\n",
    "\n",
    "__Genetic Algorithm (GA)__ is a [_Metaheuristic_](https://en.wikipedia.org/wiki/Metaheuristic) inspired by process of [Natural Selection](https://en.wikipedia.org/wiki/Natural_selection) that belongs to the larger class of [Evolutionary Algorithms (EA)](https://en.wikipedia.org/wiki/Evolutionary_algorithm).\n",
    "\n",
    "Genetic Algorithms are usually used to generate solutions to [Optimization](https://en.wikipedia.org/wiki/Optimization_(mathematics))and [Search Problems](https://en.wikipedia.org/wiki/Search_algorithm) by relying on __bio-inspired__ operations such as [Mutation](https://en.wikipedia.org/wiki/Mutation_(genetic_algorithm)), [Cross-Over](https://en.wikipedia.org/wiki/Crossover_(genetic_algorithm)) and [Selection](https://en.wikipedia.org/wiki/Selection_(genetic_algorithm)).\n",
    "\n",
    "__Example:__\n",
    "\n",
    "<figure>\n",
    "  <img src=\"https://upload.wikimedia.org/wikipedia/commons/f/ff/St_5-xband-antenna.jpg\" alt=\"Evolved Antenna\" style=\"width:200px\">\n",
    "  <figcaption>The 2006 NASA ST5 spacecraft antenna. This complicated shape was found by an evolutionary computer design program to create the best radiation pattern. It is known as an <a href=\"https://en.wikipedia.org/wiki/Evolved_antenna\">Evolved Antenna</a>.</figcaption>\n",
    "</figure>"
   ]
  },
  {
   "cell_type": "markdown",
   "metadata": {},
   "source": [
    "***\n",
    "# Some Examples: CIY ( Code It Yourself )\n",
    "\n",
    "Let's dive into the vast shallow waters! I mean let's do some things and see __Genetic Algorithms__ in action then we will try to polish our crude understanding."
   ]
  },
  {
   "cell_type": "markdown",
   "metadata": {},
   "source": [
    "> Main codes for these examples are the files `ga-template.ipynb`/`ga-template.py`.\n",
    "\n",
    "> It contains the basic idea of writing a _Genetic Algorithm_."
   ]
  },
  {
   "cell_type": "markdown",
   "metadata": {},
   "source": [
    "# 0) Extermum of Multi-Variate Function\n",
    "\n",
    "Suppose somebody comes to you and asks if you could find extremum of some function for him/her. When you ask him/her about the details he/she tells you that they can only evaluate (calculate the value of function) with given parameters and they have no other clue about the inner structure of function.\n",
    "\n",
    "__Problem:__ Given a function, try to find it's extremum value.\n",
    "\n",
    "Now refer to file `practice00-template.ipynb`/`practice00-template.py` for the codes.\n",
    "\n",
    "_TODO: The final code will be added after the live session._"
   ]
  },
  {
   "cell_type": "markdown",
   "metadata": {},
   "source": [
    "# 1) String Finding\n",
    "Credit of this example goes to [Zvia](https://www.youtube.com/user/Zivia1). This example is explained by him in this video [Simple Genetic Algorithm in Python](https://www.youtube.com/watch?v=MZloJByL9s0&t=18s)"
   ]
  },
  {
   "cell_type": "code",
   "execution_count": 7,
   "metadata": {},
   "outputs": [
    {
     "data": {
      "text/html": [
       "<center><iframe width=\"854\" height=\"480\" src=\"https://www.youtube.com/embed/MZloJByL9s0\" frameborder=\"0\" allow=\"autoplay; encrypted-media\" allowfullscreen></iframe></center>"
      ],
      "text/plain": [
       "<IPython.core.display.HTML object>"
      ]
     },
     "execution_count": 7,
     "metadata": {},
     "output_type": "execute_result"
    }
   ],
   "source": [
    "from IPython.display import HTML\n",
    "HTML( '<center><iframe width=\"854\" height=\"480\" src=\"https://www.youtube.com/embed/MZloJByL9s0\" frameborder=\"0\" allow=\"autoplay; encrypted-media\" allowfullscreen></iframe></center>' )"
   ]
  },
  {
   "cell_type": "markdown",
   "metadata": {},
   "source": [
    "Problem Definition:\n",
    "> Suppose you want to guess a string that is chosen by another person. The only information that he/she gives you are:\n",
    "\n",
    "> 1) Length of the string\n",
    "\n",
    "> 2) If you guess an string, he/she tells you how many characters you guessed right\n",
    "\n",
    "Our GA Solution:\n",
    "\n",
    "> Creat a copy of `practice01-template.ipynb`/`practice01-template.py` and start coding.\n",
    "\n",
    "> The file `practice01-solution.py` contains the final implementation (similar to the video above).\n",
    "\n",
    "_TODO: Solution will be added after live session._"
   ]
  },
  {
   "cell_type": "markdown",
   "metadata": {},
   "source": [
    "## 2) Heat Conductor\n",
    "\n",
    "_TODO: Implement it_"
   ]
  },
  {
   "cell_type": "markdown",
   "metadata": {},
   "source": [
    "## 3) Simple Neural Network\n",
    "\n",
    "_TODO: Implement it_"
   ]
  },
  {
   "cell_type": "markdown",
   "metadata": {},
   "source": [
    "## 4) Wind Turbine\n",
    "\n",
    "_TODO: Implement it_"
   ]
  },
  {
   "cell_type": "markdown",
   "metadata": {},
   "source": [
    "# Theory ... Again!\n",
    "\n",
    "Now that we have seen and practiced with some examples, we can think about what _Genetic Algorithms_ are doing.\n",
    "\n",
    "If you haven't thought before, pause and think about each of process __Selection__, __Cross-Over__ and __Mutation__ in a general setting. What role do they play? How can one alter them and what would be the effect on the result of _Genetic Algorithm_?\n",
    "\n",
    "_TODO: Write some more rigorous analysis and explanation_"
   ]
  },
  {
   "cell_type": "code",
   "execution_count": null,
   "metadata": {},
   "outputs": [],
   "source": [
    "\n",
    "\n",
    "\n",
    "\n",
    "\n",
    "\n",
    "\n",
    "\n",
    "\n",
    "\n",
    "\n",
    "\n",
    "\n",
    "\n",
    "\n",
    "\n",
    "\n",
    "\n",
    "\n",
    "\n",
    "\n",
    "\n",
    "\n",
    "\n",
    "\n",
    "\n",
    "\n",
    "\n",
    "\n",
    "\n",
    "\n",
    "\n",
    "\n",
    "\n",
    "\n",
    "\n",
    "\n",
    "\n",
    "\n",
    "\n"
   ]
  }
 ],
 "metadata": {
  "kernelspec": {
   "display_name": "python3.5.2",
   "language": "python",
   "name": "python3.5.2"
  },
  "language_info": {
   "codemirror_mode": {
    "name": "ipython",
    "version": 3
   },
   "file_extension": ".py",
   "mimetype": "text/x-python",
   "name": "python",
   "nbconvert_exporter": "python",
   "pygments_lexer": "ipython3",
   "version": "3.5.2"
  }
 },
 "nbformat": 4,
 "nbformat_minor": 2
}
