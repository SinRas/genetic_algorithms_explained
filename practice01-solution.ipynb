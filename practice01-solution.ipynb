{
 "cells": [
  {
   "cell_type": "markdown",
   "metadata": {},
   "source": [
    "> Run this cell once!\n",
    "\n",
    "> This will tell python to reload before each import.\n",
    "\n",
    " >This enables you to see updated version of your module as you change and save."
   ]
  },
  {
   "cell_type": "code",
   "execution_count": null,
   "metadata": {},
   "outputs": [],
   "source": [
    "%load_ext autoreload\n",
    "%autoreload 2"
   ]
  },
  {
   "cell_type": "markdown",
   "metadata": {},
   "source": [
    "# External Modules"
   ]
  },
  {
   "cell_type": "code",
   "execution_count": null,
   "metadata": {},
   "outputs": [],
   "source": [
    "# Code Here\n",
    "import string # For string letters\n",
    "import random # For randomly selection from lists\n",
    "from fuzzywuzzy import fuzz # For string similarity comparison"
   ]
  },
  {
   "cell_type": "markdown",
   "metadata": {},
   "source": [
    "# `Agent` Class"
   ]
  },
  {
   "cell_type": "code",
   "execution_count": null,
   "metadata": {},
   "outputs": [],
   "source": [
    "# *------------------* #\n",
    "# Agent Class\n",
    "class Agent:\n",
    "    \"\"\"This class implements the 'Agent' for the evolution purpose.\n",
    "    \"\"\"\n",
    "    # Contructor\n",
    "    def __init__( self, string_length, initial_string = None ):\n",
    "        # Store String Length\n",
    "        self.string_length = string_length\n",
    "        # If there is no string to initialize, randomly generate one\n",
    "        if( initial_string is None ):\n",
    "            self.string_content = ''.join( [ random.choice( string.ascii_letters + ' ' ) for _ in range( self.string_length ) ] )\n",
    "        else:\n",
    "            self.string_content = initial_string\n",
    "        # Where fitness should be stored\n",
    "        self.fitness = None\n",
    "    # String\n",
    "    def __str__( self ):\n",
    "        string_representation = \"\"\"String Length:  {}\n",
    "String Content: {}\n",
    "String Fitness: {}\"\"\".format( self.string_length, self.string_content, self.fitness )\n",
    "        return( string_representation )"
   ]
  },
  {
   "cell_type": "markdown",
   "metadata": {},
   "source": [
    "# `ga`: Main Genetic Algorithm Function"
   ]
  },
  {
   "cell_type": "code",
   "execution_count": null,
   "metadata": {},
   "outputs": [],
   "source": [
    "# *------------------* #\n",
    "# Do GA\n",
    "def ga( N_population, N_generations, target_string ):\n",
    "    \"\"\"Do Genetic Algorithm Search\n",
    "    \"\"\"\n",
    "    # Parameters\n",
    "    string_length = len( target_string )\n",
    "    # Report Format\n",
    "    report_format = '--------------\\nGeneration: {}\\nBest Agent Results\\n{}'\n",
    "    # Initialization\n",
    "    agents = initialization( N_population, string_length )\n",
    "    ## Main Loop\n",
    "    for i in range(N_generations):\n",
    "        # Assign Fitness\n",
    "        agents = fitness( agents, target_string  )\n",
    "        # Selection\n",
    "        agents = selection( agents, selection_ratio = 0.2 )\n",
    "        # Early-Stopping Criteria\n",
    "        best_fitness = agents[0].fitness\n",
    "        if( best_fitness > 91 ):\n",
    "            break\n",
    "        #--------------------\n",
    "        # Report\n",
    "        if( (1 > 0) and ( i%10**3 == 0 ) ):\n",
    "            print(report_format.format( i, str(agents[0]) )) # If you have implemented `__str__` for 'Agent'\n",
    "        #--------------------\n",
    "        # Cross-Over\n",
    "        agents = crossover( agents, N_population )\n",
    "        # Mutation\n",
    "        agents = mutation( agents, selection_ratio = 0.2, hard_probability = 0.05, soft_probability = 0.25  )\n",
    "    # Last Sort\n",
    "    agents = fitness( agents, target_string )\n",
    "    agents = sorted( agents, key = lambda agent: agent.fitness, reverse = True )\n",
    "    # Report\n",
    "    if( 1 > 0 ):\n",
    "        print(report_format.format( i+1, str(agents[0]) ))\n",
    "    # Retun\n",
    "    return( agents )"
   ]
  },
  {
   "cell_type": "markdown",
   "metadata": {},
   "source": [
    "# `initialization`: Initial Population"
   ]
  },
  {
   "cell_type": "code",
   "execution_count": null,
   "metadata": {},
   "outputs": [],
   "source": [
    "# *------------------* #\n",
    "# Initialize\n",
    "def initialization( N_population, string_length ):\n",
    "    \"\"\"Initialize Agents\n",
    "    \"\"\"\n",
    "    # Create and Initialize Agents\n",
    "    agents = [ Agent( string_length ) for _ in range( N_population ) ]\n",
    "    # Return\n",
    "    return( agents )"
   ]
  },
  {
   "cell_type": "markdown",
   "metadata": {},
   "source": [
    "# `fitness`: Calculating Fitness"
   ]
  },
  {
   "cell_type": "code",
   "execution_count": null,
   "metadata": {},
   "outputs": [],
   "source": [
    "# *------------------* #\n",
    "# Fitness\n",
    "def fitness( agents, target_string ):\n",
    "    \"\"\"Calculate fitness for each agent.\n",
    "    \"\"\"\n",
    "    # Calculate and Set Fitness of Agents\n",
    "    for agent in agents:\n",
    "        agent.fitness = fuzz.ratio( target_string, agent.string_content )\n",
    "    # Return\n",
    "    return( agents )"
   ]
  },
  {
   "cell_type": "markdown",
   "metadata": {},
   "source": [
    "# `selection`: Survival of the Fittest"
   ]
  },
  {
   "cell_type": "code",
   "execution_count": null,
   "metadata": {},
   "outputs": [],
   "source": [
    "# *------------------* #\n",
    "# Selection\n",
    "def selection( agents, selection_ratio ):\n",
    "    \"\"\"Select (a fraction) of fittest agents.\n",
    "    \"\"\"\n",
    "    N = int( len( agents ) * selection_ratio )\n",
    "    #####################\n",
    "    # Find Fitness\n",
    "    agents = sorted( agents, key=( lambda x: x.fitness ), reverse=True )\n",
    "    agents = agents[ :N ] # Just Fittest!\n",
    "#     agents = agents[ :int(N/2) ] + agents[ N:int(3*N/2) ] # Some Fittest and some further away\n",
    "#     agents = agents[ :int(N/2) ] + random.sample( agents[ int(N/2): ], int(N/2) ) # Some Fittest and some random\n",
    "    # Return\n",
    "    return( agents )"
   ]
  },
  {
   "cell_type": "markdown",
   "metadata": {},
   "source": [
    "# `crossover`: Breeding"
   ]
  },
  {
   "cell_type": "code",
   "execution_count": null,
   "metadata": {},
   "outputs": [],
   "source": [
    "# *------------------* #\n",
    "# Cross-Over\n",
    "def crossover( agents, N_population ):\n",
    "    \"\"\"Cross over the agents.\n",
    "    \"\"\"\n",
    "    # New Children!\n",
    "    new_agents = []\n",
    "    while( (len(new_agents) + len(agents)) < N_population ) : # While number of children is not too many\n",
    "        # Parent\n",
    "        parent1, parent2 = random.sample( agents, 2 )\n",
    "        # Random Slice\n",
    "        string_length = parent1.string_length\n",
    "        indices = random.sample( list(range(string_length)), int(string_length/2) )\n",
    "        # Cross Over\n",
    "        child1_string = list(parent1.string_content)\n",
    "        child2_string = list(parent2.string_content)\n",
    "        # For Cross-Overed Indices\n",
    "        for idx in indices:\n",
    "            child1_string[idx] = parent2.string_content[idx]\n",
    "            child2_string[idx] = parent1.string_content[idx]\n",
    "        # Convert to string\n",
    "        child1_string = ''.join( child1_string )\n",
    "        child2_string = ''.join( child2_string )\n",
    "        # Create children with given genes\n",
    "        child1, child2 = Agent( string_length, initial_string=child1_string ), Agent( string_length, initial_string=child2_string )\n",
    "        # Append\n",
    "        new_agents += [ child1, child2 ]\n",
    "    # Return\n",
    "    return( agents + new_agents )"
   ]
  },
  {
   "cell_type": "markdown",
   "metadata": {},
   "source": [
    "# `mutation`: New Features"
   ]
  },
  {
   "cell_type": "code",
   "execution_count": null,
   "metadata": {},
   "outputs": [],
   "source": [
    "# *------------------* #\n",
    "# Mutation\n",
    "def mutation( agents, selection_ratio, hard_probability = 0.05, soft_probability = 0.25 ):\n",
    "    \"\"\"Mutate agents.\n",
    "    \"\"\"\n",
    "    # Number to not mutate\n",
    "    N = int( len(agents) * selection_ratio )\n",
    "    # Loop through new children\n",
    "    for agent in agents[ N: ]:\n",
    "        u = random.random()\n",
    "        if( u < hard_probability ): # Hard Mutation: Change all structure\n",
    "            agent.string_content = ''.join( [ random.choice( string.ascii_letters + ' ' ) for _ in range(agent.string_length) ] )\n",
    "        elif( u < (hard_probability + soft_probability) ): # Soft Mutation: Change one character\n",
    "            idx = random.randint( 0, agent.string_length - 1 )\n",
    "            agent.string_content = agent.string_content[:idx] + random.choice( string.ascii_letters+' ' ) + agent.string_content[(idx+1):]\n",
    "    # Return\n",
    "    return( agents )"
   ]
  },
  {
   "cell_type": "markdown",
   "metadata": {},
   "source": [
    "# Putting it all together"
   ]
  },
  {
   "cell_type": "code",
   "execution_count": null,
   "metadata": {
    "scrolled": true
   },
   "outputs": [],
   "source": [
    "# *------------------------------* #\n",
    "# Main\n",
    "# Parameters\n",
    "## Target\n",
    "target_string = \"Hello World\"\n",
    "## Simulation\n",
    "N_population = 50\n",
    "N_generations = 10**5\n",
    "# Genetic Algorithm\n",
    "agents = ga( N_population, N_generations, target_string )"
   ]
  }
 ],
 "metadata": {
  "kernelspec": {
   "display_name": "python3.5.2",
   "language": "python",
   "name": "python3.5.2"
  },
  "language_info": {
   "codemirror_mode": {
    "name": "ipython",
    "version": 3
   },
   "file_extension": ".py",
   "mimetype": "text/x-python",
   "name": "python",
   "nbconvert_exporter": "python",
   "pygments_lexer": "ipython3",
   "version": "3.5.2"
  }
 },
 "nbformat": 4,
 "nbformat_minor": 2
}
